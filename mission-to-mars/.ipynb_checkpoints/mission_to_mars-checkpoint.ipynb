{
 "cells": [
  {
   "cell_type": "code",
   "execution_count": 35,
   "id": "62e21a72",
   "metadata": {},
   "outputs": [],
   "source": [
    "from splinter import Browser\n",
    "from bs4 import BeautifulSoup as bs\n",
    "from webdriver_manager.chrome import ChromeDriverManager\n",
    "import pandas as pd\n",
    "import requests\n",
    "import numpy as np\n",
    "import json\n",
    "import re"
   ]
  },
  {
   "cell_type": "code",
   "execution_count": 36,
   "id": "a27fbb0c",
   "metadata": {},
   "outputs": [],
   "source": [
    "# Setup splinter\n",
    "executable_path = {'executable_path': ChromeDriverManager().install()}\n",
    "browser = Browser('chrome', **executable_path, headless=False)"
   ]
  },
  {
   "cell_type": "markdown",
   "id": "4499ccc8",
   "metadata": {},
   "source": [
    "### NASA Mars News"
   ]
  },
  {
   "cell_type": "code",
   "execution_count": null,
   "id": "c6efa513",
   "metadata": {},
   "outputs": [],
   "source": [
    "url = 'https://redplanetscience.com/'\n",
    "browser.visit(url)\n",
    "html = browser.html\n",
    "soup = bs(html, 'html.parser')\n",
    "soup"
   ]
  },
  {
   "cell_type": "code",
   "execution_count": null,
   "id": "af0a30a2",
   "metadata": {},
   "outputs": [],
   "source": [
    "# Scrape the Mars News Site and collect the latest News Title and Paragraph \n",
    "# Text. Assign the text to variables that you can reference later.\n",
    "# news_url = 'https://redplanetscience.com/'\n",
    "# response = requests.get(news_url)\n",
    "# html = requests.get(news_url)\n",
    "# soup = bs(html.text, 'html.parser')\n",
    "# news_title = soup.select('#news .col-md-12:nth-child(1) .content_title')#[0].get_text().strip()\n",
    "# Examine the results and look for a ul with the class 'querylist'\n",
    "\n",
    "news_title = soup.find('div', class_='content_title').text.strip()\n",
    "news_p = soup.find('div', class_='article_teaser_body').text.strip()"
   ]
  },
  {
   "cell_type": "markdown",
   "id": "282e8e1a",
   "metadata": {},
   "source": [
    "### JPL Mars Space Images - Featured Image"
   ]
  },
  {
   "cell_type": "code",
   "execution_count": null,
   "id": "f9924513",
   "metadata": {},
   "outputs": [],
   "source": [
    "img_url = 'https://spaceimages-mars.com/'\n",
    "browser.visit(img_url)\n",
    "browser.find_by_css('.btn.btn-outline-light').click()\n",
    "featured_image_url = browser.find_by_css('.fancybox-image')['src']"
   ]
  },
  {
   "cell_type": "markdown",
   "id": "36932fc2",
   "metadata": {},
   "source": [
    "### Mars Facts"
   ]
  },
  {
   "cell_type": "code",
   "execution_count": 34,
   "id": "5a93d2de",
   "metadata": {},
   "outputs": [
    {
     "data": {
      "text/plain": [
       "'<table border=\"1\" class=\"dataframe\">  <thead>    <tr style=\"text-align: right;\">      <th></th>      <th>0</th>      <th>1</th>    </tr>  </thead>  <tbody>    <tr>      <th>0</th>      <td>Equatorial Diameter:</td>      <td>6,792 km</td>    </tr>    <tr>      <th>1</th>      <td>Polar Diameter:</td>      <td>6,752 km</td>    </tr>    <tr>      <th>2</th>      <td>Mass:</td>      <td>6.39 × 10^23 kg (0.11 Earths)</td>    </tr>    <tr>      <th>3</th>      <td>Moons:</td>      <td>2 ( Phobos &amp; Deimos )</td>    </tr>    <tr>      <th>4</th>      <td>Orbit Distance:</td>      <td>227,943,824 km (1.38 AU)</td>    </tr>    <tr>      <th>5</th>      <td>Orbit Period:</td>      <td>687 days (1.9 years)</td>    </tr>    <tr>      <th>6</th>      <td>Surface Temperature:</td>      <td>-87 to -5 °C</td>    </tr>    <tr>      <th>7</th>      <td>First Record:</td>      <td>2nd millennium BC</td>    </tr>    <tr>      <th>8</th>      <td>Recorded By:</td>      <td>Egyptian astronomers</td>    </tr>  </tbody></table>'"
      ]
     },
     "execution_count": 34,
     "metadata": {},
     "output_type": "execute_result"
    }
   ],
   "source": [
    "# use Pandas to scrape the table containing Diameter, Mass, etc.\n",
    "# Use Pandas to convert the data to a HTML table string.\n",
    "facts_url = 'https://galaxyfacts-mars.com'\n",
    "tables = pd.read_html(facts_url)\n",
    "html_table = tables[1].to_html().replace('\\n', '')\n",
    "html_table"
   ]
  },
  {
   "cell_type": "markdown",
   "id": "5fc383ac",
   "metadata": {},
   "source": [
    "### Mars Hemispheres"
   ]
  },
  {
   "cell_type": "code",
   "execution_count": 42,
   "id": "815e195c",
   "metadata": {},
   "outputs": [
    {
     "data": {
      "text/plain": [
       "[{'img_url': 'https://marshemispheres.com/images/cerberus_enhanced.tif',\n",
       "  'title': 'Cerberus'},\n",
       " {'img_url': 'https://marshemispheres.com/images/schiaparelli_enhanced.tif',\n",
       "  'title': 'Schiaparelli'},\n",
       " {'img_url': 'https://marshemispheres.com/images/syrtis_major_enhanced.tif',\n",
       "  'title': 'Syrtis Major'},\n",
       " {'img_url': 'https://marshemispheres.com/images/valles_marineris_enhanced.tif',\n",
       "  'title': 'Valles Marineris'}]"
      ]
     },
     "execution_count": 42,
     "metadata": {},
     "output_type": "execute_result"
    }
   ],
   "source": [
    "browser.visit('https://marshemispheres.com/')\n",
    "\n",
    "links = [link for link in browser.find_by_css('div.description a')]\n",
    "data = []\n",
    "\n",
    "for link in links:\n",
    "    link.click()\n",
    "    link = browser.links.find_by_partial_href('.tif').first['href']\n",
    "    title = ' '.join(browser.find_by_css('h2.title').text.split()[:-2])\n",
    "    data.append({'img_url': link, 'title': title})\n",
    "    browser.back()\n",
    "    \n",
    "data"
   ]
  },
  {
   "cell_type": "code",
   "execution_count": 16,
   "id": "b080ffd8",
   "metadata": {},
   "outputs": [
    {
     "ename": "SyntaxError",
     "evalue": "invalid syntax (1832983679.py, line 7)",
     "output_type": "error",
     "traceback": [
      "\u001b[0;36m  File \u001b[0;32m\"/var/folders/q1/xdrnbfk51xx0wphqd2d307mr0000gn/T/ipykernel_15778/1832983679.py\"\u001b[0;36m, line \u001b[0;32m7\u001b[0m\n\u001b[0;31m    obj = splinter.driver.webdriver.WebDriverElement object at 0x7fbe527871d0\u001b[0m\n\u001b[0m                                                          ^\u001b[0m\n\u001b[0;31mSyntaxError\u001b[0m\u001b[0;31m:\u001b[0m invalid syntax\n"
     ]
    }
   ],
   "source": [
    "# browser.quit()\n",
    "browser.visit('https://marshemispheres.com/')\n",
    "\n",
    "# hemi_urls = []\n",
    "links = [x for x in browser.find_by_css('div.description a')]\n",
    "# for link in links:\n",
    "obj = \n",
    "for attr in dir(obj):\n",
    "    if not attr.startswith('__'):\n",
    "        value = getattr(obj, attr)\n",
    "        print(f'{attr}: {value}')\n",
    "        print('----')"
   ]
  },
  {
   "cell_type": "code",
   "execution_count": null,
   "id": "e9d7a7b9",
   "metadata": {},
   "outputs": [],
   "source": []
  }
 ],
 "metadata": {
  "kernelspec": {
   "display_name": "PythonData",
   "language": "python",
   "name": "pythondata"
  },
  "language_info": {
   "codemirror_mode": {
    "name": "ipython",
    "version": 3
   },
   "file_extension": ".py",
   "mimetype": "text/x-python",
   "name": "python",
   "nbconvert_exporter": "python",
   "pygments_lexer": "ipython3",
   "version": "3.7.13"
  }
 },
 "nbformat": 4,
 "nbformat_minor": 5
}
