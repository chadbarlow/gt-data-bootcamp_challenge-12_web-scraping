{
 "cells": [
  {
   "cell_type": "code",
   "execution_count": 1,
   "id": "62e21a72",
   "metadata": {},
   "outputs": [],
   "source": [
    "from splinter import Browser\n",
    "from bs4 import BeautifulSoup as bs\n",
    "from webdriver_manager.chrome import ChromeDriverManager\n",
    "import pandas as pd"
   ]
  },
  {
   "cell_type": "code",
   "execution_count": 2,
   "id": "fb9cb30d",
   "metadata": {},
   "outputs": [],
   "source": [
    "executable_path = {'executable_path': ChromeDriverManager().install()}\n",
    "browser = Browser('chrome', **executable_path, headless=False)"
   ]
  },
  {
   "cell_type": "markdown",
   "id": "4499ccc8",
   "metadata": {},
   "source": [
    "### NASA Mars News"
   ]
  },
  {
   "cell_type": "code",
   "execution_count": null,
   "id": "2f8a5fe8",
   "metadata": {},
   "outputs": [],
   "source": [
    "url = 'https://redplanetscience.com/'\n",
    "browser.visit(url)\n",
    "html = browser.html\n",
    "soup = bs(html, 'html.parser')\n",
    "news_title = soup.find('div', class_='content_title').text.strip()\n",
    "news_p = soup.find('div', class_='article_teaser_body').text.strip()"
   ]
  },
  {
   "cell_type": "markdown",
   "id": "282e8e1a",
   "metadata": {},
   "source": [
    "### JPL Mars Space Images - Featured Image"
   ]
  },
  {
   "cell_type": "code",
   "execution_count": null,
   "id": "f9924513",
   "metadata": {},
   "outputs": [],
   "source": [
    "img_url = 'https://spaceimages-mars.com/'\n",
    "browser.visit(img_url)\n",
    "browser.find_by_css('.btn.btn-outline-light').click()\n",
    "featured_image_url = browser.find_by_css('.fancybox-image')['src']"
   ]
  },
  {
   "cell_type": "markdown",
   "id": "36932fc2",
   "metadata": {},
   "source": [
    "### Mars Facts"
   ]
  },
  {
   "cell_type": "code",
   "execution_count": 16,
   "id": "5a93d2de",
   "metadata": {},
   "outputs": [
    {
     "data": {
      "text/plain": [
       "'<table border=\"1\" class=\"dataframe\">  <thead>    <tr style=\"text-align: right;\">      <th></th>      <th>Mars</th>      <th>Earth</th>    </tr>    <tr>      <th>Mars - Earth Comparison</th>      <th></th>      <th></th>    </tr>  </thead>  <tbody>    <tr>      <th>Diameter:</th>      <td>6,779 km</td>      <td>12,742 km</td>    </tr>    <tr>      <th>Mass:</th>      <td>6.39 × 10^23 kg</td>      <td>5.97 × 10^24 kg</td>    </tr>    <tr>      <th>Moons:</th>      <td>2</td>      <td>1</td>    </tr>    <tr>      <th>Distance from Sun:</th>      <td>227,943,824 km</td>      <td>149,598,262 km</td>    </tr>    <tr>      <th>Length of Year:</th>      <td>687 Earth days</td>      <td>365.24 days</td>    </tr>    <tr>      <th>Temperature:</th>      <td>-87 to -5 °C</td>      <td>-88 to 58°C</td>    </tr>  </tbody></table>'"
      ]
     },
     "execution_count": 16,
     "metadata": {},
     "output_type": "execute_result"
    }
   ],
   "source": [
    "facts_url = 'https://galaxyfacts-mars.com'\n",
    "tables = pd.read_html(facts_url, header=0, index_col=0)[0]\n",
    "html_table = tables.to_html().replace('\\n', '')"
   ]
  },
  {
   "cell_type": "markdown",
   "id": "5fc383ac",
   "metadata": {},
   "source": [
    "### Mars Hemispheres"
   ]
  },
  {
   "cell_type": "code",
   "execution_count": 8,
   "id": "815e195c",
   "metadata": {},
   "outputs": [],
   "source": [
    "browser.visit('https://marshemispheres.com/')\n",
    "\n",
    "links = [link for link in browser.find_by_css('div.description a')]\n",
    "data = []\n",
    "\n",
    "for link in links:\n",
    "    link.click()\n",
    "    img_url = browser.links.find_by_partial_href('full.jpg').first['href']\n",
    "    title = ' '.join(browser.find_by_css('h2.title').text.split()[:-2])\n",
    "    data.append({'img_url': img_url, 'title': title})\n",
    "    browser.back()"
   ]
  }
 ],
 "metadata": {
  "kernelspec": {
   "display_name": "PythonData",
   "language": "python",
   "name": "pythondata"
  },
  "language_info": {
   "codemirror_mode": {
    "name": "ipython",
    "version": 3
   },
   "file_extension": ".py",
   "mimetype": "text/x-python",
   "name": "python",
   "nbconvert_exporter": "python",
   "pygments_lexer": "ipython3",
   "version": "3.7.13"
  }
 },
 "nbformat": 4,
 "nbformat_minor": 5
}
