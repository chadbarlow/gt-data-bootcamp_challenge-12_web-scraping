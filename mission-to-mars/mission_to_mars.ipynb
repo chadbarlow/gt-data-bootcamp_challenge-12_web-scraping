{
 "cells": [
  {
   "cell_type": "code",
   "execution_count": 2,
   "id": "62e21a72",
   "metadata": {},
   "outputs": [],
   "source": [
    "from splinter import Browser\n",
    "from bs4 import BeautifulSoup as bs\n",
    "from webdriver_manager.chrome import ChromeDriverManager\n",
    "import pandas as pd"
   ]
  },
  {
   "cell_type": "code",
   "execution_count": 3,
   "id": "fb9cb30d",
   "metadata": {},
   "outputs": [],
   "source": [
    "# Setup splinter\n",
    "executable_path = {'executable_path': ChromeDriverManager().install()}\n",
    "browser = Browser('chrome', **executable_path, headless=False)"
   ]
  },
  {
   "cell_type": "markdown",
   "id": "4499ccc8",
   "metadata": {},
   "source": [
    "### NASA Mars News"
   ]
  },
  {
   "cell_type": "code",
   "execution_count": null,
   "id": "2f8a5fe8",
   "metadata": {},
   "outputs": [],
   "source": [
    "url = 'https://redplanetscience.com/'\n",
    "browser.visit(url)\n",
    "html = browser.html\n",
    "soup = bs(html, 'html.parser')\n",
    "news_title = soup.find('div', class_='content_title').text.strip()\n",
    "news_p = soup.find('div', class_='article_teaser_body').text.strip()"
   ]
  },
  {
   "cell_type": "markdown",
   "id": "282e8e1a",
   "metadata": {},
   "source": [
    "### JPL Mars Space Images - Featured Image"
   ]
  },
  {
   "cell_type": "code",
   "execution_count": null,
   "id": "f9924513",
   "metadata": {},
   "outputs": [],
   "source": [
    "img_url = 'https://spaceimages-mars.com/'\n",
    "browser.visit(img_url)\n",
    "browser.find_by_css('.btn.btn-outline-light').click()\n",
    "featured_image_url = browser.find_by_css('.fancybox-image')['src']"
   ]
  },
  {
   "cell_type": "markdown",
   "id": "36932fc2",
   "metadata": {},
   "source": [
    "### Mars Facts"
   ]
  },
  {
   "cell_type": "code",
   "execution_count": 6,
   "id": "5a93d2de",
   "metadata": {},
   "outputs": [
    {
     "data": {
      "text/plain": [
       "'<table border=\"1\" class=\"dataframe\">  <thead>    <tr style=\"text-align: right;\">      <th></th>      <th>0</th>      <th>1</th>      <th>2</th>    </tr>  </thead>  <tbody>    <tr>      <th>0</th>      <td>Mars - Earth Comparison</td>      <td>Mars</td>      <td>Earth</td>    </tr>    <tr>      <th>1</th>      <td>Diameter:</td>      <td>6,779 km</td>      <td>12,742 km</td>    </tr>    <tr>      <th>2</th>      <td>Mass:</td>      <td>6.39 × 10^23 kg</td>      <td>5.97 × 10^24 kg</td>    </tr>    <tr>      <th>3</th>      <td>Moons:</td>      <td>2</td>      <td>1</td>    </tr>    <tr>      <th>4</th>      <td>Distance from Sun:</td>      <td>227,943,824 km</td>      <td>149,598,262 km</td>    </tr>    <tr>      <th>5</th>      <td>Length of Year:</td>      <td>687 Earth days</td>      <td>365.24 days</td>    </tr>    <tr>      <th>6</th>      <td>Temperature:</td>      <td>-87 to -5 °C</td>      <td>-88 to 58°C</td>    </tr>  </tbody></table>'"
      ]
     },
     "execution_count": 6,
     "metadata": {},
     "output_type": "execute_result"
    }
   ],
   "source": [
    "facts_url = 'https://galaxyfacts-mars.com'\n",
    "tables = pd.read_html(facts_url)\n",
    "html_table = tables[0].to_html().replace('\\n', '')\n",
    "html_table"
   ]
  },
  {
   "cell_type": "markdown",
   "id": "5fc383ac",
   "metadata": {},
   "source": [
    "### Mars Hemispheres"
   ]
  },
  {
   "cell_type": "code",
   "execution_count": 8,
   "id": "815e195c",
   "metadata": {},
   "outputs": [],
   "source": [
    "browser.visit('https://marshemispheres.com/')\n",
    "\n",
    "links = [link for link in browser.find_by_css('div.description a')]\n",
    "data = []\n",
    "\n",
    "for link in links:\n",
    "    link.click()\n",
    "    img_url = browser.links.find_by_partial_href('full.jpg').first['href']\n",
    "    title = ' '.join(browser.find_by_css('h2.title').text.split()[:-2])\n",
    "    data.append({'img_url': img_url, 'title': title})\n",
    "    browser.back()"
   ]
  },
  {
   "cell_type": "code",
   "execution_count": 49,
   "id": "85f6f0ae",
   "metadata": {},
   "outputs": [
    {
     "name": "stderr",
     "output_type": "stream",
     "text": [
      "[WDM] - Downloading: 100%|███████████████████████████████████████████████████████| 8.84M/8.84M [00:01<00:00, 4.87MB/s]\n"
     ]
    },
    {
     "name": "stdout",
     "output_type": "stream",
     "text": [
      "{\n",
      "    \"news_title\": \"NASA, ULA Launch Mars 2020 Perseverance Rover Mission to Red Planet\",\n",
      "    \"news_p\": \"The agency's Mars 2020 mission is on its way. It will land at Jezero Crater in about seven months, on Feb. 18, 2021.\",\n",
      "    \"featured_image_url\": \"https://spaceimages-mars.com/image/featured/mars3.jpg\",\n",
      "    \"html_table\": \"<table border=\\\"1\\\" class=\\\"dataframe\\\">  <thead>    <tr style=\\\"text-align: right;\\\">      <th></th>      <th>0</th>      <th>1</th>    </tr>  </thead>  <tbody>    <tr>      <th>0</th>      <td>Equatorial Diameter:</td>      <td>6,792 km</td>    </tr>    <tr>      <th>1</th>      <td>Polar Diameter:</td>      <td>6,752 km</td>    </tr>    <tr>      <th>2</th>      <td>Mass:</td>      <td>6.39 \\u00d7 10^23 kg (0.11 Earths)</td>    </tr>    <tr>      <th>3</th>      <td>Moons:</td>      <td>2 ( Phobos &amp; Deimos )</td>    </tr>    <tr>      <th>4</th>      <td>Orbit Distance:</td>      <td>227,943,824 km (1.38 AU)</td>    </tr>    <tr>      <th>5</th>      <td>Orbit Period:</td>      <td>687 days (1.9 years)</td>    </tr>    <tr>      <th>6</th>      <td>Surface Temperature:</td>      <td>-87 to -5 \\u00b0C</td>    </tr>    <tr>      <th>7</th>      <td>First Record:</td>      <td>2nd millennium BC</td>    </tr>    <tr>      <th>8</th>      <td>Recorded By:</td>      <td>Egyptian astronomers</td>    </tr>  </tbody></table>\",\n",
      "    \"hemisphere_data\": [\n",
      "        {\n",
      "            \"img_url\": \"https://marshemispheres.com/images/cerberus_enhanced.tif\",\n",
      "            \"title\": \"Cerberus\"\n",
      "        },\n",
      "        {\n",
      "            \"img_url\": \"https://marshemispheres.com/images/schiaparelli_enhanced.tif\",\n",
      "            \"title\": \"Schiaparelli\"\n",
      "        },\n",
      "        {\n",
      "            \"img_url\": \"https://marshemispheres.com/images/syrtis_major_enhanced.tif\",\n",
      "            \"title\": \"Syrtis Major\"\n",
      "        },\n",
      "        {\n",
      "            \"img_url\": \"https://marshemispheres.com/images/valles_marineris_enhanced.tif\",\n",
      "            \"title\": \"Valles Marineris\"\n",
      "        }\n",
      "    ]\n",
      "}\n"
     ]
    }
   ],
   "source": [
    "import json\n",
    "import pandas as pd\n",
    "from bs4 import BeautifulSoup as bs\n",
    "from splinter import Browser\n",
    "from webdriver_manager.chrome import ChromeDriverManager\n",
    "\n",
    "\n",
    "def init_browser():\n",
    "    executable_path = {'executable_path': ChromeDriverManager().install()}\n",
    "    return Browser('chrome', **executable_path, headless=False)\n",
    "\n",
    "\n",
    "def get_latest_news(browser):\n",
    "    url = 'https://redplanetscience.com/'\n",
    "    browser.visit(url)\n",
    "    html = browser.html\n",
    "    soup = bs(html, 'html.parser')\n",
    "    news_title = soup.find('div', class_='content_title').text.strip()\n",
    "    news_p = soup.find('div', class_='article_teaser_body').text.strip()\n",
    "    return news_title, news_p\n",
    "\n",
    "\n",
    "def get_featured_image(browser):\n",
    "    img_url = 'https://spaceimages-mars.com/'\n",
    "    browser.visit(img_url)\n",
    "    browser.find_by_css('.btn.btn-outline-light').click()\n",
    "    return browser.find_by_css('.fancybox-image')['src']\n",
    "\n",
    "\n",
    "def get_mars_facts():\n",
    "    facts_url = 'https://galaxyfacts-mars.com'\n",
    "    tables = pd.read_html(facts_url)\n",
    "    html_table = tables[1].to_html().replace('\\n', '')\n",
    "    return html_table\n",
    "\n",
    "\n",
    "def get_hemisphere_data(browser):\n",
    "    browser.visit('https://marshemispheres.com/')\n",
    "    links = [link for link in browser.find_by_css('div.description a')]\n",
    "    hemisphere_data = []\n",
    "\n",
    "    for link in links:\n",
    "        link.click()\n",
    "        img_url = browser.links.find_by_partial_href('.tif').first['href']\n",
    "        title = ' '.join(browser.find_by_css('h2.title').text.split()[:-2])\n",
    "        hemisphere_data.append({'img_url': img_url, 'title': title})\n",
    "        browser.back()\n",
    "\n",
    "    return hemisphere_data\n",
    "\n",
    "\n",
    "def scrape():\n",
    "    browser = init_browser()\n",
    "\n",
    "    news_title, news_p = get_latest_news(browser)\n",
    "    featured_image_url = get_featured_image(browser)\n",
    "    html_table = get_mars_facts()\n",
    "    hemisphere_data = get_hemisphere_data(browser)\n",
    "\n",
    "    browser.quit()\n",
    "\n",
    "    scraped_data = {\n",
    "        'news_title': news_title,\n",
    "        'news_p': news_p,\n",
    "        'featured_image_url': featured_image_url,\n",
    "        'html_table': html_table,\n",
    "        'hemisphere_data': hemisphere_data\n",
    "    }\n",
    "\n",
    "    return scraped_data\n",
    "\n",
    "\n",
    "if __name__ == \"__main__\":\n",
    "    scraped_data = scrape()\n",
    "    print(json.dumps(scraped_data, indent=4))\n"
   ]
  },
  {
   "cell_type": "code",
   "execution_count": null,
   "id": "1edfd45c",
   "metadata": {},
   "outputs": [],
   "source": []
  }
 ],
 "metadata": {
  "kernelspec": {
   "display_name": "PythonData",
   "language": "python",
   "name": "pythondata"
  },
  "language_info": {
   "codemirror_mode": {
    "name": "ipython",
    "version": 3
   },
   "file_extension": ".py",
   "mimetype": "text/x-python",
   "name": "python",
   "nbconvert_exporter": "python",
   "pygments_lexer": "ipython3",
   "version": "3.7.13"
  }
 },
 "nbformat": 4,
 "nbformat_minor": 5
}
